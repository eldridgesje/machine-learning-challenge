{
 "cells": [
  {
   "cell_type": "code",
   "execution_count": 1,
   "metadata": {},
   "outputs": [
    {
     "name": "stdout",
     "output_type": "stream",
     "text": [
      "Requirement already satisfied: sklearn in c:\\users\\zbbro\\.conda\\envs\\pythondata38\\lib\\site-packages (0.0)\n",
      "Requirement already satisfied: scikit-learn in c:\\users\\zbbro\\.conda\\envs\\pythondata38\\lib\\site-packages (from sklearn) (0.24.1)\n",
      "Requirement already satisfied: joblib>=0.11 in c:\\users\\zbbro\\.conda\\envs\\pythondata38\\lib\\site-packages (from scikit-learn->sklearn) (1.0.1)\n",
      "Requirement already satisfied: scipy>=0.19.1 in c:\\users\\zbbro\\.conda\\envs\\pythondata38\\lib\\site-packages (from scikit-learn->sklearn) (1.6.2)\n",
      "Requirement already satisfied: threadpoolctl>=2.0.0 in c:\\users\\zbbro\\.conda\\envs\\pythondata38\\lib\\site-packages (from scikit-learn->sklearn) (2.1.0)\n",
      "Requirement already satisfied: numpy>=1.13.3 in c:\\users\\zbbro\\.conda\\envs\\pythondata38\\lib\\site-packages (from scikit-learn->sklearn) (1.20.1)\n"
     ]
    }
   ],
   "source": [
    "# Update sklearn to prevent version mismatches\n",
    "!pip install sklearn --upgrade"
   ]
  },
  {
   "cell_type": "code",
   "execution_count": 2,
   "metadata": {},
   "outputs": [
    {
     "name": "stdout",
     "output_type": "stream",
     "text": [
      "Requirement already satisfied: joblib in c:\\users\\zbbro\\.conda\\envs\\pythondata38\\lib\\site-packages (1.0.1)\n"
     ]
    }
   ],
   "source": [
    "# install joblib. This will be used to save your model. \n",
    "# Restart your kernel after installing \n",
    "!pip install joblib"
   ]
  },
  {
   "cell_type": "code",
   "execution_count": 3,
   "metadata": {},
   "outputs": [],
   "source": [
    "import pandas as pd"
   ]
  },
  {
   "cell_type": "markdown",
   "metadata": {},
   "source": [
    "# Read the CSV and Perform Basic Data Cleaning"
   ]
  },
  {
   "cell_type": "code",
   "execution_count": 4,
   "metadata": {},
   "outputs": [
    {
     "data": {
      "text/html": [
       "<div>\n",
       "<style scoped>\n",
       "    .dataframe tbody tr th:only-of-type {\n",
       "        vertical-align: middle;\n",
       "    }\n",
       "\n",
       "    .dataframe tbody tr th {\n",
       "        vertical-align: top;\n",
       "    }\n",
       "\n",
       "    .dataframe thead th {\n",
       "        text-align: right;\n",
       "    }\n",
       "</style>\n",
       "<table border=\"1\" class=\"dataframe\">\n",
       "  <thead>\n",
       "    <tr style=\"text-align: right;\">\n",
       "      <th></th>\n",
       "      <th>koi_disposition</th>\n",
       "      <th>koi_fpflag_nt</th>\n",
       "      <th>koi_fpflag_ss</th>\n",
       "      <th>koi_fpflag_co</th>\n",
       "      <th>koi_fpflag_ec</th>\n",
       "      <th>koi_period</th>\n",
       "      <th>koi_period_err1</th>\n",
       "      <th>koi_period_err2</th>\n",
       "      <th>koi_time0bk</th>\n",
       "      <th>koi_time0bk_err1</th>\n",
       "      <th>...</th>\n",
       "      <th>koi_steff_err2</th>\n",
       "      <th>koi_slogg</th>\n",
       "      <th>koi_slogg_err1</th>\n",
       "      <th>koi_slogg_err2</th>\n",
       "      <th>koi_srad</th>\n",
       "      <th>koi_srad_err1</th>\n",
       "      <th>koi_srad_err2</th>\n",
       "      <th>ra</th>\n",
       "      <th>dec</th>\n",
       "      <th>koi_kepmag</th>\n",
       "    </tr>\n",
       "  </thead>\n",
       "  <tbody>\n",
       "    <tr>\n",
       "      <th>0</th>\n",
       "      <td>CONFIRMED</td>\n",
       "      <td>0</td>\n",
       "      <td>0</td>\n",
       "      <td>0</td>\n",
       "      <td>0</td>\n",
       "      <td>54.418383</td>\n",
       "      <td>2.479000e-04</td>\n",
       "      <td>-2.479000e-04</td>\n",
       "      <td>162.513840</td>\n",
       "      <td>0.003520</td>\n",
       "      <td>...</td>\n",
       "      <td>-81</td>\n",
       "      <td>4.467</td>\n",
       "      <td>0.064</td>\n",
       "      <td>-0.096</td>\n",
       "      <td>0.927</td>\n",
       "      <td>0.105</td>\n",
       "      <td>-0.061</td>\n",
       "      <td>291.93423</td>\n",
       "      <td>48.141651</td>\n",
       "      <td>15.347</td>\n",
       "    </tr>\n",
       "    <tr>\n",
       "      <th>1</th>\n",
       "      <td>FALSE POSITIVE</td>\n",
       "      <td>0</td>\n",
       "      <td>1</td>\n",
       "      <td>0</td>\n",
       "      <td>0</td>\n",
       "      <td>19.899140</td>\n",
       "      <td>1.490000e-05</td>\n",
       "      <td>-1.490000e-05</td>\n",
       "      <td>175.850252</td>\n",
       "      <td>0.000581</td>\n",
       "      <td>...</td>\n",
       "      <td>-176</td>\n",
       "      <td>4.544</td>\n",
       "      <td>0.044</td>\n",
       "      <td>-0.176</td>\n",
       "      <td>0.868</td>\n",
       "      <td>0.233</td>\n",
       "      <td>-0.078</td>\n",
       "      <td>297.00482</td>\n",
       "      <td>48.134129</td>\n",
       "      <td>15.436</td>\n",
       "    </tr>\n",
       "    <tr>\n",
       "      <th>2</th>\n",
       "      <td>FALSE POSITIVE</td>\n",
       "      <td>0</td>\n",
       "      <td>1</td>\n",
       "      <td>0</td>\n",
       "      <td>0</td>\n",
       "      <td>1.736952</td>\n",
       "      <td>2.630000e-07</td>\n",
       "      <td>-2.630000e-07</td>\n",
       "      <td>170.307565</td>\n",
       "      <td>0.000115</td>\n",
       "      <td>...</td>\n",
       "      <td>-174</td>\n",
       "      <td>4.564</td>\n",
       "      <td>0.053</td>\n",
       "      <td>-0.168</td>\n",
       "      <td>0.791</td>\n",
       "      <td>0.201</td>\n",
       "      <td>-0.067</td>\n",
       "      <td>285.53461</td>\n",
       "      <td>48.285210</td>\n",
       "      <td>15.597</td>\n",
       "    </tr>\n",
       "    <tr>\n",
       "      <th>3</th>\n",
       "      <td>CONFIRMED</td>\n",
       "      <td>0</td>\n",
       "      <td>0</td>\n",
       "      <td>0</td>\n",
       "      <td>0</td>\n",
       "      <td>2.525592</td>\n",
       "      <td>3.760000e-06</td>\n",
       "      <td>-3.760000e-06</td>\n",
       "      <td>171.595550</td>\n",
       "      <td>0.001130</td>\n",
       "      <td>...</td>\n",
       "      <td>-211</td>\n",
       "      <td>4.438</td>\n",
       "      <td>0.070</td>\n",
       "      <td>-0.210</td>\n",
       "      <td>1.046</td>\n",
       "      <td>0.334</td>\n",
       "      <td>-0.133</td>\n",
       "      <td>288.75488</td>\n",
       "      <td>48.226200</td>\n",
       "      <td>15.509</td>\n",
       "    </tr>\n",
       "    <tr>\n",
       "      <th>4</th>\n",
       "      <td>CONFIRMED</td>\n",
       "      <td>0</td>\n",
       "      <td>0</td>\n",
       "      <td>0</td>\n",
       "      <td>0</td>\n",
       "      <td>4.134435</td>\n",
       "      <td>1.050000e-05</td>\n",
       "      <td>-1.050000e-05</td>\n",
       "      <td>172.979370</td>\n",
       "      <td>0.001900</td>\n",
       "      <td>...</td>\n",
       "      <td>-232</td>\n",
       "      <td>4.486</td>\n",
       "      <td>0.054</td>\n",
       "      <td>-0.229</td>\n",
       "      <td>0.972</td>\n",
       "      <td>0.315</td>\n",
       "      <td>-0.105</td>\n",
       "      <td>296.28613</td>\n",
       "      <td>48.224670</td>\n",
       "      <td>15.714</td>\n",
       "    </tr>\n",
       "  </tbody>\n",
       "</table>\n",
       "<p>5 rows × 41 columns</p>\n",
       "</div>"
      ],
      "text/plain": [
       "  koi_disposition  koi_fpflag_nt  koi_fpflag_ss  koi_fpflag_co  koi_fpflag_ec  \\\n",
       "0       CONFIRMED              0              0              0              0   \n",
       "1  FALSE POSITIVE              0              1              0              0   \n",
       "2  FALSE POSITIVE              0              1              0              0   \n",
       "3       CONFIRMED              0              0              0              0   \n",
       "4       CONFIRMED              0              0              0              0   \n",
       "\n",
       "   koi_period  koi_period_err1  koi_period_err2  koi_time0bk  \\\n",
       "0   54.418383     2.479000e-04    -2.479000e-04   162.513840   \n",
       "1   19.899140     1.490000e-05    -1.490000e-05   175.850252   \n",
       "2    1.736952     2.630000e-07    -2.630000e-07   170.307565   \n",
       "3    2.525592     3.760000e-06    -3.760000e-06   171.595550   \n",
       "4    4.134435     1.050000e-05    -1.050000e-05   172.979370   \n",
       "\n",
       "   koi_time0bk_err1  ...  koi_steff_err2  koi_slogg  koi_slogg_err1  \\\n",
       "0          0.003520  ...             -81      4.467           0.064   \n",
       "1          0.000581  ...            -176      4.544           0.044   \n",
       "2          0.000115  ...            -174      4.564           0.053   \n",
       "3          0.001130  ...            -211      4.438           0.070   \n",
       "4          0.001900  ...            -232      4.486           0.054   \n",
       "\n",
       "   koi_slogg_err2  koi_srad  koi_srad_err1  koi_srad_err2         ra  \\\n",
       "0          -0.096     0.927          0.105         -0.061  291.93423   \n",
       "1          -0.176     0.868          0.233         -0.078  297.00482   \n",
       "2          -0.168     0.791          0.201         -0.067  285.53461   \n",
       "3          -0.210     1.046          0.334         -0.133  288.75488   \n",
       "4          -0.229     0.972          0.315         -0.105  296.28613   \n",
       "\n",
       "         dec  koi_kepmag  \n",
       "0  48.141651      15.347  \n",
       "1  48.134129      15.436  \n",
       "2  48.285210      15.597  \n",
       "3  48.226200      15.509  \n",
       "4  48.224670      15.714  \n",
       "\n",
       "[5 rows x 41 columns]"
      ]
     },
     "execution_count": 4,
     "metadata": {},
     "output_type": "execute_result"
    }
   ],
   "source": [
    "df = pd.read_csv(\"exoplanet_data.csv\")\n",
    "# Drop the null columns where all values are null\n",
    "df = df.dropna(axis='columns', how='all')\n",
    "# Drop the null rows\n",
    "df = df.dropna()\n",
    "df.head()"
   ]
  },
  {
   "cell_type": "markdown",
   "metadata": {},
   "source": [
    "# Select your features (columns)"
   ]
  },
  {
   "cell_type": "code",
   "execution_count": 5,
   "metadata": {},
   "outputs": [],
   "source": [
    "# Set features. This will also be used as your x values.\n",
    "selected_features = df[['koi_fpflag_nt', 'koi_fpflag_ss', 'koi_fpflag_co', 'koi_fpflag_ec', 'koi_period', 'koi_time0bk', 'koi_impact', 'koi_duration', 'koi_depth', 'koi_prad', 'koi_teq', 'koi_insol', 'koi_model_snr', 'koi_steff', 'koi_slogg', 'koi_srad', 'ra', 'dec', 'koi_kepmag']]"
   ]
  },
  {
   "cell_type": "markdown",
   "metadata": {},
   "source": [
    "# Create a Train Test Split\n",
    "\n",
    "Use `koi_disposition` for the y values"
   ]
  },
  {
   "cell_type": "code",
   "execution_count": 6,
   "metadata": {},
   "outputs": [],
   "source": [
    "from sklearn.model_selection import train_test_split\n",
    "\n",
    "X_train, X_test, y_train, y_test = train_test_split(selected_features, df[\"koi_disposition\"], random_state=1)"
   ]
  },
  {
   "cell_type": "code",
   "execution_count": 7,
   "metadata": {},
   "outputs": [
    {
     "data": {
      "text/plain": [
       "Index(['koi_fpflag_nt', 'koi_fpflag_ss', 'koi_fpflag_co', 'koi_fpflag_ec',\n",
       "       'koi_period', 'koi_time0bk', 'koi_impact', 'koi_duration', 'koi_depth',\n",
       "       'koi_prad', 'koi_teq', 'koi_insol', 'koi_model_snr', 'koi_steff',\n",
       "       'koi_slogg', 'koi_srad', 'ra', 'dec', 'koi_kepmag'],\n",
       "      dtype='object')"
      ]
     },
     "execution_count": 7,
     "metadata": {},
     "output_type": "execute_result"
    }
   ],
   "source": [
    "X_train.columns"
   ]
  },
  {
   "cell_type": "markdown",
   "metadata": {},
   "source": [
    "# Pre-processing\n",
    "\n",
    "Scale the data using the MinMaxScaler and perform some feature selection"
   ]
  },
  {
   "cell_type": "code",
   "execution_count": 8,
   "metadata": {},
   "outputs": [
    {
     "data": {
      "text/plain": [
       "array([[-0.42276709, -0.57125689, -0.50369272, ..., -0.03351199,\n",
       "        -1.54207582,  1.27194921],\n",
       "       [ 2.36536859, -0.57125689, -0.50369272, ...,  0.01304448,\n",
       "        -0.80378962,  0.68911767],\n",
       "       [ 2.36536859, -0.57125689, -0.50369272, ..., -0.04804041,\n",
       "         1.64326243,  0.74925698],\n",
       "       ...,\n",
       "       [ 2.36536859, -0.57125689, -0.50369272, ..., -0.42375104,\n",
       "        -0.74210221,  0.83389748],\n",
       "       [-0.42276709,  1.75052595, -0.50369272, ...,  1.04918031,\n",
       "         1.55855898, -0.91756696],\n",
       "       [-0.42276709, -0.57125689, -0.50369272, ..., -1.14541338,\n",
       "        -1.01054017, -1.68972594]])"
      ]
     },
     "execution_count": 8,
     "metadata": {},
     "output_type": "execute_result"
    }
   ],
   "source": [
    "# Scale your data\n",
    "from sklearn.preprocessing import StandardScaler\n",
    "\n",
    "X_scaler = StandardScaler().fit(X_train)\n",
    "\n",
    "X_train_scaled = X_scaler.transform(X_train)\n",
    "X_test_scaled = X_scaler.transform(X_test)\n",
    "\n",
    "X_test_scaled"
   ]
  },
  {
   "cell_type": "code",
   "execution_count": 9,
   "metadata": {},
   "outputs": [
    {
     "data": {
      "text/plain": [
       "LogisticRegression(max_iter=1000)"
      ]
     },
     "execution_count": 9,
     "metadata": {},
     "output_type": "execute_result"
    }
   ],
   "source": [
    "from sklearn.linear_model import LogisticRegression\n",
    "classifier = LogisticRegression(max_iter=1000)\n",
    "classifier"
   ]
  },
  {
   "cell_type": "code",
   "execution_count": 10,
   "metadata": {},
   "outputs": [
    {
     "data": {
      "text/plain": [
       "LogisticRegression(max_iter=1000)"
      ]
     },
     "execution_count": 10,
     "metadata": {},
     "output_type": "execute_result"
    }
   ],
   "source": [
    "classifier.fit(X_train_scaled, y_train)"
   ]
  },
  {
   "cell_type": "markdown",
   "metadata": {},
   "source": [
    "# Train the Model\n",
    "\n"
   ]
  },
  {
   "cell_type": "code",
   "execution_count": 11,
   "metadata": {},
   "outputs": [
    {
     "name": "stdout",
     "output_type": "stream",
     "text": [
      "Training Data Score: 0.8172801831012779\n",
      "Testing Data Score: 0.8278032036613272\n"
     ]
    }
   ],
   "source": [
    "print(f\"Training Data Score: {classifier.score(X_train_scaled, y_train)}\")\n",
    "print(f\"Testing Data Score: {classifier.score(X_test_scaled, y_test)}\")"
   ]
  },
  {
   "cell_type": "code",
   "execution_count": 12,
   "metadata": {},
   "outputs": [
    {
     "name": "stdout",
     "output_type": "stream",
     "text": [
      "First 10 Predictions:   ['FALSE POSITIVE' 'FALSE POSITIVE' 'FALSE POSITIVE' 'FALSE POSITIVE'\n",
      " 'FALSE POSITIVE' 'FALSE POSITIVE' 'FALSE POSITIVE' 'FALSE POSITIVE'\n",
      " 'FALSE POSITIVE' 'FALSE POSITIVE']\n",
      "First 10 Actual labels: ['CONFIRMED', 'FALSE POSITIVE', 'FALSE POSITIVE', 'CONFIRMED', 'FALSE POSITIVE', 'FALSE POSITIVE', 'FALSE POSITIVE', 'CONFIRMED', 'CANDIDATE', 'FALSE POSITIVE']\n"
     ]
    }
   ],
   "source": [
    "predictions = classifier.predict(X_test)\n",
    "print(f\"First 10 Predictions:   {predictions[:10]}\")\n",
    "print(f\"First 10 Actual labels: {y_test[:10].tolist()}\")"
   ]
  },
  {
   "cell_type": "code",
   "execution_count": 13,
   "metadata": {},
   "outputs": [
    {
     "data": {
      "text/plain": [
       "array([-1.83245223, -1.1747566 , -1.83114194, -1.1711466 ,  0.40325675,\n",
       "       -0.10109961,  0.40729874, -0.28223196,  1.22378886,  0.15341865,\n",
       "        0.17587334, -0.10310015, -0.82019778,  0.0745493 ,  0.11303565,\n",
       "        0.6629928 ,  0.01228367, -0.03861356,  0.00557112])"
      ]
     },
     "execution_count": 13,
     "metadata": {},
     "output_type": "execute_result"
    }
   ],
   "source": [
    "importance = classifier.coef_[0]\n",
    "\n",
    "importance"
   ]
  },
  {
   "cell_type": "code",
   "execution_count": 132,
   "metadata": {},
   "outputs": [],
   "source": [
    "# Set features. This will also be used as your x values.\n",
    "selected_features2 = df[['koi_fpflag_nt', 'koi_fpflag_ss', 'koi_fpflag_co', 'koi_fpflag_ec', 'koi_period', 'koi_time0bk', 'koi_impact', 'koi_duration', 'koi_depth', 'koi_prad', 'koi_teq', 'koi_insol', 'koi_model_snr', 'koi_steff', 'koi_slogg', 'koi_srad', 'ra', 'dec']]"
   ]
  },
  {
   "cell_type": "code",
   "execution_count": 133,
   "metadata": {},
   "outputs": [],
   "source": [
    "X_train2, X_test2, y_train2, y_test2 = train_test_split(selected_features2, df[\"koi_disposition\"], random_state=1)"
   ]
  },
  {
   "cell_type": "code",
   "execution_count": 134,
   "metadata": {},
   "outputs": [],
   "source": [
    "# Scale your data\n",
    "X_scaler2 = StandardScaler().fit(X_train2)\n",
    "\n",
    "X_train_scaled2 = X_scaler2.transform(X_train2)\n",
    "X_test_scaled2 = X_scaler2.transform(X_test2)"
   ]
  },
  {
   "cell_type": "code",
   "execution_count": 135,
   "metadata": {},
   "outputs": [
    {
     "data": {
      "text/plain": [
       "LogisticRegression(max_iter=1000)"
      ]
     },
     "execution_count": 135,
     "metadata": {},
     "output_type": "execute_result"
    }
   ],
   "source": [
    "classifier2 = LogisticRegression(max_iter=1000)\n",
    "classifier2"
   ]
  },
  {
   "cell_type": "code",
   "execution_count": 136,
   "metadata": {},
   "outputs": [
    {
     "data": {
      "text/plain": [
       "LogisticRegression(max_iter=1000)"
      ]
     },
     "execution_count": 136,
     "metadata": {},
     "output_type": "execute_result"
    }
   ],
   "source": [
    "classifier2.fit(X_train_scaled2, y_train2)"
   ]
  },
  {
   "cell_type": "code",
   "execution_count": 137,
   "metadata": {},
   "outputs": [
    {
     "name": "stdout",
     "output_type": "stream",
     "text": [
      "Training Data Score: 0.8159450696166317\n",
      "Testing Data Score: 0.8352402745995423\n"
     ]
    }
   ],
   "source": [
    "print(f\"Training Data Score: {classifier2.score(X_train_scaled2, y_train2)}\")\n",
    "print(f\"Testing Data Score: {classifier2.score(X_test_scaled2, y_test2)}\")"
   ]
  },
  {
   "cell_type": "code",
   "execution_count": 138,
   "metadata": {},
   "outputs": [
    {
     "data": {
      "text/plain": [
       "array([-1.83592239, -1.17385487, -1.8324881 , -1.17503479,  0.40412375,\n",
       "       -0.10189208,  0.38725509, -0.27704219,  1.29906549,  0.14048835,\n",
       "        0.17977133, -0.12641995, -0.85282597,  0.07792671,  0.12601464,\n",
       "        0.7112338 ,  0.01534249, -0.03619433])"
      ]
     },
     "execution_count": 138,
     "metadata": {},
     "output_type": "execute_result"
    }
   ],
   "source": [
    "importance2 = classifier2.coef_[0]\n",
    "\n",
    "importance2"
   ]
  },
  {
   "cell_type": "markdown",
   "metadata": {},
   "source": [
    "# Hyperparameter Tuning\n",
    "\n",
    "Use `GridSearchCV` to tune the model's parameters"
   ]
  },
  {
   "cell_type": "code",
   "execution_count": 139,
   "metadata": {},
   "outputs": [],
   "source": [
    "# Create the GridSearchCV model\n",
    "from sklearn.model_selection import GridSearchCV\n",
    "param_grid = {'C': [0.5, 1, 5, 10],\n",
    "              'fit_intercept': [True, False],\n",
    "             'solver': [\"newton-cg\", \"lbfgs\", \"liblinear\"]}\n",
    "grid = GridSearchCV(classifier, param_grid, verbose=3)"
   ]
  },
  {
   "cell_type": "code",
   "execution_count": 140,
   "metadata": {},
   "outputs": [
    {
     "name": "stdout",
     "output_type": "stream",
     "text": [
      "Fitting 5 folds for each of 24 candidates, totalling 120 fits\n",
      "[CV 1/5] END ....C=0.5, fit_intercept=True, solver=newton-cg; total time=   0.0s\n",
      "[CV 2/5] END ....C=0.5, fit_intercept=True, solver=newton-cg; total time=   0.0s\n",
      "[CV 3/5] END ....C=0.5, fit_intercept=True, solver=newton-cg; total time=   0.0s\n",
      "[CV 4/5] END ....C=0.5, fit_intercept=True, solver=newton-cg; total time=   0.0s\n",
      "[CV 5/5] END ....C=0.5, fit_intercept=True, solver=newton-cg; total time=   0.0s\n",
      "[CV 1/5] END ........C=0.5, fit_intercept=True, solver=lbfgs; total time=   0.0s\n",
      "[CV 2/5] END ........C=0.5, fit_intercept=True, solver=lbfgs; total time=   0.0s\n",
      "[CV 3/5] END ........C=0.5, fit_intercept=True, solver=lbfgs; total time=   0.0s\n",
      "[CV 4/5] END ........C=0.5, fit_intercept=True, solver=lbfgs; total time=   0.0s\n",
      "[CV 5/5] END ........C=0.5, fit_intercept=True, solver=lbfgs; total time=   0.0s\n",
      "[CV 1/5] END ....C=0.5, fit_intercept=True, solver=liblinear; total time=   0.0s\n",
      "[CV 2/5] END ....C=0.5, fit_intercept=True, solver=liblinear; total time=   0.0s\n",
      "[CV 3/5] END ....C=0.5, fit_intercept=True, solver=liblinear; total time=   0.0s\n",
      "[CV 4/5] END ....C=0.5, fit_intercept=True, solver=liblinear; total time=   0.0s\n",
      "[CV 5/5] END ....C=0.5, fit_intercept=True, solver=liblinear; total time=   0.0s\n",
      "[CV 1/5] END ...C=0.5, fit_intercept=False, solver=newton-cg; total time=   0.0s\n",
      "[CV 2/5] END ...C=0.5, fit_intercept=False, solver=newton-cg; total time=   0.0s\n",
      "[CV 3/5] END ...C=0.5, fit_intercept=False, solver=newton-cg; total time=   0.0s\n",
      "[CV 4/5] END ...C=0.5, fit_intercept=False, solver=newton-cg; total time=   0.0s\n",
      "[CV 5/5] END ...C=0.5, fit_intercept=False, solver=newton-cg; total time=   0.0s\n",
      "[CV 1/5] END .......C=0.5, fit_intercept=False, solver=lbfgs; total time=   0.0s\n",
      "[CV 2/5] END .......C=0.5, fit_intercept=False, solver=lbfgs; total time=   0.0s\n",
      "[CV 3/5] END .......C=0.5, fit_intercept=False, solver=lbfgs; total time=   0.0s\n",
      "[CV 4/5] END .......C=0.5, fit_intercept=False, solver=lbfgs; total time=   0.0s\n",
      "[CV 5/5] END .......C=0.5, fit_intercept=False, solver=lbfgs; total time=   0.0s\n",
      "[CV 1/5] END ...C=0.5, fit_intercept=False, solver=liblinear; total time=   0.0s\n",
      "[CV 2/5] END ...C=0.5, fit_intercept=False, solver=liblinear; total time=   0.0s\n",
      "[CV 3/5] END ...C=0.5, fit_intercept=False, solver=liblinear; total time=   0.0s\n",
      "[CV 4/5] END ...C=0.5, fit_intercept=False, solver=liblinear; total time=   0.0s\n",
      "[CV 5/5] END ...C=0.5, fit_intercept=False, solver=liblinear; total time=   0.0s\n",
      "[CV 1/5] END ......C=1, fit_intercept=True, solver=newton-cg; total time=   0.0s\n",
      "[CV 2/5] END ......C=1, fit_intercept=True, solver=newton-cg; total time=   0.0s\n",
      "[CV 3/5] END ......C=1, fit_intercept=True, solver=newton-cg; total time=   0.0s\n",
      "[CV 4/5] END ......C=1, fit_intercept=True, solver=newton-cg; total time=   0.0s\n",
      "[CV 5/5] END ......C=1, fit_intercept=True, solver=newton-cg; total time=   0.0s\n",
      "[CV 1/5] END ..........C=1, fit_intercept=True, solver=lbfgs; total time=   0.0s\n",
      "[CV 2/5] END ..........C=1, fit_intercept=True, solver=lbfgs; total time=   0.0s\n",
      "[CV 3/5] END ..........C=1, fit_intercept=True, solver=lbfgs; total time=   0.0s\n",
      "[CV 4/5] END ..........C=1, fit_intercept=True, solver=lbfgs; total time=   0.1s\n",
      "[CV 5/5] END ..........C=1, fit_intercept=True, solver=lbfgs; total time=   0.0s\n",
      "[CV 1/5] END ......C=1, fit_intercept=True, solver=liblinear; total time=   0.0s\n",
      "[CV 2/5] END ......C=1, fit_intercept=True, solver=liblinear; total time=   0.0s\n",
      "[CV 3/5] END ......C=1, fit_intercept=True, solver=liblinear; total time=   0.0s\n",
      "[CV 4/5] END ......C=1, fit_intercept=True, solver=liblinear; total time=   0.0s\n",
      "[CV 5/5] END ......C=1, fit_intercept=True, solver=liblinear; total time=   0.0s\n",
      "[CV 1/5] END .....C=1, fit_intercept=False, solver=newton-cg; total time=   0.0s\n",
      "[CV 2/5] END .....C=1, fit_intercept=False, solver=newton-cg; total time=   0.0s\n",
      "[CV 3/5] END .....C=1, fit_intercept=False, solver=newton-cg; total time=   0.0s\n",
      "[CV 4/5] END .....C=1, fit_intercept=False, solver=newton-cg; total time=   0.0s\n",
      "[CV 5/5] END .....C=1, fit_intercept=False, solver=newton-cg; total time=   0.0s\n",
      "[CV 1/5] END .........C=1, fit_intercept=False, solver=lbfgs; total time=   0.0s\n",
      "[CV 2/5] END .........C=1, fit_intercept=False, solver=lbfgs; total time=   0.0s\n",
      "[CV 3/5] END .........C=1, fit_intercept=False, solver=lbfgs; total time=   0.0s\n",
      "[CV 4/5] END .........C=1, fit_intercept=False, solver=lbfgs; total time=   0.0s\n",
      "[CV 5/5] END .........C=1, fit_intercept=False, solver=lbfgs; total time=   0.0s\n",
      "[CV 1/5] END .....C=1, fit_intercept=False, solver=liblinear; total time=   0.0s\n",
      "[CV 2/5] END .....C=1, fit_intercept=False, solver=liblinear; total time=   0.0s\n",
      "[CV 3/5] END .....C=1, fit_intercept=False, solver=liblinear; total time=   0.0s\n",
      "[CV 4/5] END .....C=1, fit_intercept=False, solver=liblinear; total time=   0.0s\n",
      "[CV 5/5] END .....C=1, fit_intercept=False, solver=liblinear; total time=   0.0s\n",
      "[CV 1/5] END ......C=5, fit_intercept=True, solver=newton-cg; total time=   0.1s\n",
      "[CV 2/5] END ......C=5, fit_intercept=True, solver=newton-cg; total time=   0.0s\n",
      "[CV 3/5] END ......C=5, fit_intercept=True, solver=newton-cg; total time=   0.1s\n",
      "[CV 4/5] END ......C=5, fit_intercept=True, solver=newton-cg; total time=   0.1s\n",
      "[CV 5/5] END ......C=5, fit_intercept=True, solver=newton-cg; total time=   0.0s\n",
      "[CV 1/5] END ..........C=5, fit_intercept=True, solver=lbfgs; total time=   0.1s\n",
      "[CV 2/5] END ..........C=5, fit_intercept=True, solver=lbfgs; total time=   0.2s\n",
      "[CV 3/5] END ..........C=5, fit_intercept=True, solver=lbfgs; total time=   0.1s\n",
      "[CV 4/5] END ..........C=5, fit_intercept=True, solver=lbfgs; total time=   0.1s\n",
      "[CV 5/5] END ..........C=5, fit_intercept=True, solver=lbfgs; total time=   0.1s\n",
      "[CV 1/5] END ......C=5, fit_intercept=True, solver=liblinear; total time=   0.0s\n",
      "[CV 2/5] END ......C=5, fit_intercept=True, solver=liblinear; total time=   0.0s\n",
      "[CV 3/5] END ......C=5, fit_intercept=True, solver=liblinear; total time=   0.0s\n",
      "[CV 4/5] END ......C=5, fit_intercept=True, solver=liblinear; total time=   0.0s\n",
      "[CV 5/5] END ......C=5, fit_intercept=True, solver=liblinear; total time=   0.0s\n",
      "[CV 1/5] END .....C=5, fit_intercept=False, solver=newton-cg; total time=   0.0s\n",
      "[CV 2/5] END .....C=5, fit_intercept=False, solver=newton-cg; total time=   0.0s\n",
      "[CV 3/5] END .....C=5, fit_intercept=False, solver=newton-cg; total time=   0.0s\n",
      "[CV 4/5] END .....C=5, fit_intercept=False, solver=newton-cg; total time=   0.0s\n",
      "[CV 5/5] END .....C=5, fit_intercept=False, solver=newton-cg; total time=   0.0s\n",
      "[CV 1/5] END .........C=5, fit_intercept=False, solver=lbfgs; total time=   0.1s\n",
      "[CV 2/5] END .........C=5, fit_intercept=False, solver=lbfgs; total time=   0.1s\n",
      "[CV 3/5] END .........C=5, fit_intercept=False, solver=lbfgs; total time=   0.1s\n",
      "[CV 4/5] END .........C=5, fit_intercept=False, solver=lbfgs; total time=   0.1s\n",
      "[CV 5/5] END .........C=5, fit_intercept=False, solver=lbfgs; total time=   0.1s\n",
      "[CV 1/5] END .....C=5, fit_intercept=False, solver=liblinear; total time=   0.0s\n",
      "[CV 2/5] END .....C=5, fit_intercept=False, solver=liblinear; total time=   0.0s\n",
      "[CV 3/5] END .....C=5, fit_intercept=False, solver=liblinear; total time=   0.0s\n",
      "[CV 4/5] END .....C=5, fit_intercept=False, solver=liblinear; total time=   0.0s\n",
      "[CV 5/5] END .....C=5, fit_intercept=False, solver=liblinear; total time=   0.0s\n",
      "[CV 1/5] END .....C=10, fit_intercept=True, solver=newton-cg; total time=   0.1s\n",
      "[CV 2/5] END .....C=10, fit_intercept=True, solver=newton-cg; total time=   0.0s\n",
      "[CV 3/5] END .....C=10, fit_intercept=True, solver=newton-cg; total time=   0.1s\n",
      "[CV 4/5] END .....C=10, fit_intercept=True, solver=newton-cg; total time=   0.1s\n",
      "[CV 5/5] END .....C=10, fit_intercept=True, solver=newton-cg; total time=   0.1s\n",
      "[CV 1/5] END .........C=10, fit_intercept=True, solver=lbfgs; total time=   0.3s\n",
      "[CV 2/5] END .........C=10, fit_intercept=True, solver=lbfgs; total time=   0.2s\n",
      "[CV 3/5] END .........C=10, fit_intercept=True, solver=lbfgs; total time=   0.2s\n",
      "[CV 4/5] END .........C=10, fit_intercept=True, solver=lbfgs; total time=   0.2s\n",
      "[CV 5/5] END .........C=10, fit_intercept=True, solver=lbfgs; total time=   0.2s\n",
      "[CV 1/5] END .....C=10, fit_intercept=True, solver=liblinear; total time=   0.0s\n",
      "[CV 2/5] END .....C=10, fit_intercept=True, solver=liblinear; total time=   0.0s\n",
      "[CV 3/5] END .....C=10, fit_intercept=True, solver=liblinear; total time=   0.0s\n"
     ]
    },
    {
     "name": "stdout",
     "output_type": "stream",
     "text": [
      "[CV 4/5] END .....C=10, fit_intercept=True, solver=liblinear; total time=   0.0s\n",
      "[CV 5/5] END .....C=10, fit_intercept=True, solver=liblinear; total time=   0.0s\n",
      "[CV 1/5] END ....C=10, fit_intercept=False, solver=newton-cg; total time=   0.1s\n",
      "[CV 2/5] END ....C=10, fit_intercept=False, solver=newton-cg; total time=   0.0s\n",
      "[CV 3/5] END ....C=10, fit_intercept=False, solver=newton-cg; total time=   0.0s\n",
      "[CV 4/5] END ....C=10, fit_intercept=False, solver=newton-cg; total time=   0.1s\n",
      "[CV 5/5] END ....C=10, fit_intercept=False, solver=newton-cg; total time=   0.1s\n",
      "[CV 1/5] END ........C=10, fit_intercept=False, solver=lbfgs; total time=   0.1s\n",
      "[CV 2/5] END ........C=10, fit_intercept=False, solver=lbfgs; total time=   0.0s\n",
      "[CV 3/5] END ........C=10, fit_intercept=False, solver=lbfgs; total time=   0.1s\n",
      "[CV 4/5] END ........C=10, fit_intercept=False, solver=lbfgs; total time=   0.1s\n",
      "[CV 5/5] END ........C=10, fit_intercept=False, solver=lbfgs; total time=   0.1s\n",
      "[CV 1/5] END ....C=10, fit_intercept=False, solver=liblinear; total time=   0.0s\n",
      "[CV 2/5] END ....C=10, fit_intercept=False, solver=liblinear; total time=   0.0s\n",
      "[CV 3/5] END ....C=10, fit_intercept=False, solver=liblinear; total time=   0.0s\n",
      "[CV 4/5] END ....C=10, fit_intercept=False, solver=liblinear; total time=   0.0s\n",
      "[CV 5/5] END ....C=10, fit_intercept=False, solver=liblinear; total time=   0.0s\n"
     ]
    },
    {
     "data": {
      "text/plain": [
       "GridSearchCV(estimator=LogisticRegression(max_iter=1000),\n",
       "             param_grid={'C': [0.5, 1, 5, 10], 'fit_intercept': [True, False],\n",
       "                         'solver': ['newton-cg', 'lbfgs', 'liblinear']},\n",
       "             verbose=3)"
      ]
     },
     "execution_count": 140,
     "metadata": {},
     "output_type": "execute_result"
    }
   ],
   "source": [
    "# Train the model with GridSearch\n",
    "grid.fit(X_train_scaled2, y_train2)"
   ]
  },
  {
   "cell_type": "code",
   "execution_count": 141,
   "metadata": {},
   "outputs": [
    {
     "name": "stdout",
     "output_type": "stream",
     "text": [
      "{'C': 10, 'fit_intercept': False, 'solver': 'newton-cg'}\n",
      "0.8167038400803384\n"
     ]
    }
   ],
   "source": [
    "print(grid.best_params_)\n",
    "print(grid.best_score_)"
   ]
  },
  {
   "cell_type": "code",
   "execution_count": 142,
   "metadata": {
    "scrolled": true
   },
   "outputs": [
    {
     "name": "stdout",
     "output_type": "stream",
     "text": [
      "Training Data Score: 0.8186152965859241\n",
      "Testing Data Score: 0.8346681922196796\n"
     ]
    }
   ],
   "source": [
    "classifier3 = LogisticRegression(max_iter=1000, C=10, fit_intercept=True, solver=\"newton-cg\")\n",
    "classifier3.fit(X_train_scaled2, y_train2)\n",
    "print(f\"Training Data Score: {classifier3.score(X_train_scaled2, y_train2)}\")\n",
    "print(f\"Testing Data Score: {classifier3.score(X_test_scaled2, y_test2)}\")"
   ]
  },
  {
   "cell_type": "markdown",
   "metadata": {},
   "source": [
    "# Save the Model"
   ]
  },
  {
   "cell_type": "code",
   "execution_count": null,
   "metadata": {},
   "outputs": [],
   "source": [
    "# save your model by updating \"your_name\" with your name\n",
    "# and \"your_model\" with your model variable\n",
    "# be sure to turn this in to BCS\n",
    "# if joblib fails to import, try running the command to install in terminal/git-bash\n",
    "import joblib\n",
    "filename = 'stephen_eldridge_1.sav'\n",
    "joblib.dump(classifier3, filename)"
   ]
  },
  {
   "cell_type": "code",
   "execution_count": null,
   "metadata": {},
   "outputs": [],
   "source": []
  },
  {
   "cell_type": "code",
   "execution_count": null,
   "metadata": {},
   "outputs": [],
   "source": []
  }
 ],
 "metadata": {
  "kernel_info": {
   "name": "dev"
  },
  "kernelspec": {
   "display_name": "Python 3",
   "language": "python",
   "name": "python3"
  },
  "language_info": {
   "codemirror_mode": {
    "name": "ipython",
    "version": 3
   },
   "file_extension": ".py",
   "mimetype": "text/x-python",
   "name": "python",
   "nbconvert_exporter": "python",
   "pygments_lexer": "ipython3",
   "version": "3.8.8"
  },
  "nteract": {
   "version": "0.12.3"
  }
 },
 "nbformat": 4,
 "nbformat_minor": 2
}
